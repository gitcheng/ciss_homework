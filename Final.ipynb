{
 "cells": [
  {
   "cell_type": "markdown",
   "metadata": {},
   "source": [
    "# Final exam"
   ]
  },
  {
   "cell_type": "code",
   "execution_count": 1,
   "metadata": {
    "collapsed": true
   },
   "outputs": [],
   "source": [
    "from numpy import linalg"
   ]
  },
  {
   "cell_type": "markdown",
   "metadata": {},
   "source": [
    "## Problem 01\n",
    "\n",
    "A Lambertian wall (width = a, height = b) with radiance L is at a right\n",
    "angle with the black floor (width = a, depth = c). What is the surface\n",
    "irradiance at the center of the floor (a/2, c/2)? Neglect all other \n",
    "surrounds."
   ]
  },
  {
   "cell_type": "markdown",
   "metadata": {},
   "source": [
    "### Solution:\n",
    "\n",
    "The unit area $dA$ at the center of the floor has a solid angle $d\\omega$ with respect to a point $(x,y)$ on the wall:\n",
    "\n",
    "$$\n",
    "d\\omega = \\frac{dA \\cos\\theta}{(c/2)^2 + y^2 + (a/2 - x)^2},\n",
    "$$\n",
    "where $\\cos\\theta = y/\\sqrt{(c/2)^2 + y^2 + (a/2 - x)^2}$."
   ]
  },
  {
   "cell_type": "markdown",
   "metadata": {},
   "source": [
    "The the total flux \n",
    "\n",
    "\\begin{align}\n",
    "\\Phi &= \\int_0^a\\int_0^b d\\omega \\cos\\theta\\, L\\, dy\\, dx \\\\\n",
    " &= \\int_0^a\\int_0^b \\frac{L\\,dA\\, y}{[(c/2)^2 + y^2 + (a/2-x)^2]^{3/2}}\\, dy\\, dx\n",
    "\\end{align}"
   ]
  },
  {
   "cell_type": "markdown",
   "metadata": {},
   "source": [
    "The integral\n",
    "\n",
    "\\begin{align}\n",
    "\\int_0^b (\\alpha^2 + y^2)^{-3/2} y\\, dy &= -(\\alpha^2 + y^2)^{-1/2}\\big\\vert_0^b \\\\\n",
    " &= \\frac{1}{\\sqrt{\\alpha^2}} - \\frac{1}{\\sqrt{\\alpha^2+b^2}}\n",
    "\\end{align}"
   ]
  },
  {
   "cell_type": "markdown",
   "metadata": {},
   "source": [
    "Let $\\alpha = (c/2)^2 + (a/2-x)^2$, the total flux is then\n",
    "\n",
    "$$\n",
    "\\Phi = L\\,dA \\int_0^a\\Big[\\frac{1}{\\sqrt{(c/2)^2+(a/2-x)^2}} - \\frac{1}{\\sqrt{(c/2)^2+b^2+(a/2-x)^2}}\\Big]\\, dx\n",
    "$$"
   ]
  },
  {
   "cell_type": "markdown",
   "metadata": {},
   "source": [
    "The integral\n",
    "\n",
    "\\begin{align}\n",
    "\\int_0^a [(a/2-x)^2 + \\beta^2]^{-1/2} dx &= \\int_{-a/2}^{a/2} (x^2+\\beta^2)^{-1/2} dx \\\\\n",
    "&= \\ln(\\sqrt{x^2+\\beta^2} + x) \\big\\vert_{-a/2}^{a/2}\\\\\n",
    "&= \\ln\\Big(\\frac{\\sqrt{(a/2)^2+\\beta^2}+a/2}{\\sqrt{(a/2)^2+\\beta^2}-a/2}\\Big) \\\\\n",
    "&= \\ln\\Big(\\frac{[\\sqrt{(a/2)^2+\\beta^2}+a/2]^2}{(a/2)^2 + \\beta^2 - (a/2)^2} \\Big)\\\\\n",
    "&= \\ln\\Big(\\frac{a^2/2 + a\\sqrt{(a/2)^2+\\beta^2}}{\\beta^2}\\Big) \\\\\n",
    "&= \\ln\\Big(\\frac{a^2 + a\\sqrt{a^2+4\\beta^2}}{2\\beta^2}   \\Big)\n",
    "\\end{align}"
   ]
  },
  {
   "cell_type": "markdown",
   "metadata": {},
   "source": [
    "Therefore the irradiance is\n",
    "\n",
    "\\begin{align}\n",
    "\\Phi/dA &= L \\Big\\{\\ln\\Big(\\frac{a^2+a\\sqrt{a^2+4(c/2)^2}}{2(c/2)^2}\\Big) -\n",
    "    \\ln\\Big(\\frac{a^2+a\\sqrt{a^2+4(c/2)^2+b^2}}{2(c/2)^2+2b^2} \\Big)\\Big\\} \\\\\n",
    "&= L\\Big\\{\\ln\\Big(\\frac{a^2+a\\sqrt{a^2+c^2}}{c^2}\\Big) - \\ln\\Big(\\frac{a^2+a\\sqrt{a^2+b^2+c^2}}{c^2+4b^2}\\Big)   \\Big\\}\n",
    "\\end{align}"
   ]
  },
  {
   "cell_type": "markdown",
   "metadata": {},
   "source": [
    "## Problem 02\n",
    "Given a monitor with the following corresponding chromaticity pairs:\n",
    "\n",
    "<pre>\n",
    "phosphor     r      g      b         x       y       z\n",
    "  red        1      0      0        0.61    0.36    0.03\n",
    "  green      0      1      0        0.28    0.60    0.12\n",
    "  blue       0      0      1        0.18    0.09    0.73\n",
    "  white     1/3    1/3    1/3       0.3027  0.3281  0.3692\n",
    "</pre>\n",
    "\n",
    "Determine the spectral sensitivity functions of the camera whose raw RGB\n",
    "can be sent to this monitor without color correction.\n"
   ]
  },
  {
   "cell_type": "markdown",
   "metadata": {},
   "source": [
    "### Solution\n",
    "\n",
    "The camera sensitivity functions are the color matching functions for the (R), (G), (B) primaries of the display. First we find the matrix that transforms the tristimulus values for (R), (G), (B) primaries to the tristimulus values for (X), (Y), (Z) primaries, calculated based on the four corresponding chromaticity points (p.97 of the text book)."
   ]
  },
  {
   "cell_type": "code",
   "execution_count": 2,
   "metadata": {},
   "outputs": [],
   "source": [
    "def primaries_conversion(xyzs, rgbs, normalizerow=1):\n",
    "    '''\n",
    "    Return a 3x3 matrix A so that the tristimulus values [X,Y,Z] for the primaries (X), (Y), (Z)\n",
    "    can be transformed from the tristimulus values [R,G,B] for the primaries (R), (G), (B) via\n",
    "    [X,Y,Z]^T = A [R,G,B]^T.\n",
    "    Parameters:\n",
    "    -----------\n",
    "    xyzs: array-like, containing 4 2-tuples [(x1,y1), (x2,y2), (x3,y3), (x4,y4)] representing \n",
    "          4 chromaticity coordinates for the primaries (X), (Y), (Z).\n",
    "    rgbs: array-like, containing 4 2-tuples [(r1,g1), (r2,g2), (r3,g3), (r4,g4)] representing \n",
    "          the corresponding chromaticity coordinates for the primaries (R), (G), (B).\n",
    "    normalizerow: integer, the row number that will be normalized, ie., the sum of that row will be one.\n",
    "                  Default = 1, the middle row.\n",
    "    '''\n",
    "    if np.shape(xyzs) != (4,2) or np.shape(rgbs) != (4,2):\n",
    "        raise ValueError('Both arguments must be in shape (4,2)')\n",
    "    X = np.zeros((4,3))\n",
    "    X[:,:2] = np.asarray(xyzs)\n",
    "    X[:,2] = 1-X.sum(axis=1)\n",
    "    R = np.zeros((4,3))\n",
    "    R[:,:2] = np.asarray(rgbs)\n",
    "    R[:,2] = 1-R.sum(axis=1)\n",
    "    V = np.matrix(X[:3]).transpose()\n",
    "    U = np.matrix(R[:3]).transpose()\n",
    "    alpha = linalg.inv(U).dot(R[3])\n",
    "    beta = linalg.inv(V).dot(X[3])\n",
    "    D = np.zeros((3,3))\n",
    "    np.fill_diagonal(D, beta/alpha)\n",
    "    #\n",
    "    A = V.dot(D.dot(linalg.inv(U)))\n",
    "    A /= A[normalizerow].sum()\n",
    "    return A\n",
    "#\n",
    "def print_matrix(m):\n",
    "    for r in np.asarray(m):\n",
    "        print('{:.4f}   {:.4f}   {:.4f}'.format(*r))"
   ]
  },
  {
   "cell_type": "code",
   "execution_count": 3,
   "metadata": {},
   "outputs": [
    {
     "name": "stdout",
     "output_type": "stream",
     "text": [
      "The conversion matrix from RGB to XYZ is\n",
      "0.3748   0.3073   0.2404\n",
      "0.2212   0.6586   0.1202\n",
      "0.0184   0.1317   0.9751\n"
     ]
    }
   ],
   "source": [
    "A = primaries_conversion([(0.61,0.36),(0.28,0.60),(0.18,0.09),(0.3027,0.3281)],[(1,0),(0,1),(0,0),(1/3,1/3)])\n",
    "print('The conversion matrix from RGB to XYZ is')\n",
    "print_matrix(A)"
   ]
  },
  {
   "cell_type": "code",
   "execution_count": 4,
   "metadata": {},
   "outputs": [
    {
     "name": "stdout",
     "output_type": "stream",
     "text": [
      "\\bar{r}(\\lambda) &= +3.6156\\,\\bar{x}(\\lambda)  -1.5471\\,\\bar{y}(\\lambda)  -0.7008\\,\\bar{z}(\\lambda) \\\\\n",
      "\\bar{g}(\\lambda) &= -1.2323\\,\\bar{x}(\\lambda)  +2.0841\\,\\bar{y}(\\lambda)  +0.0469\\,\\bar{z}(\\lambda) \\\\\n",
      "\\bar{b}(\\lambda) &= +0.0981\\,\\bar{x}(\\lambda)  -0.2523\\,\\bar{y}(\\lambda)  +1.0324\\,\\bar{z}(\\lambda) \\\\\n"
     ]
    }
   ],
   "source": [
    "iA = linalg.inv(A)\n",
    "for i,c in enumerate('rgb'):\n",
    "    fstr = '\\\\bar{{{{{:s}}}}}(\\lambda)'.format(c)\n",
    "    fstr += ' &= {:+.4f}\\,\\\\bar{{x}}(\\lambda)  {:+.4f}\\,\\\\bar{{y}}(\\lambda)  {:+.4f}\\,\\\\bar{{z}}(\\lambda)'\n",
    "    print(fstr.format(iA[i,0],iA[i,1],iA[i,2]), '\\\\\\\\')"
   ]
  },
  {
   "cell_type": "markdown",
   "metadata": {},
   "source": [
    "The color matching functions are then the linear combination of $\\bar{x}(\\lambda$, $\\bar{y}(\\lambda)$, $\\bar{z}(\\lambda)$ with the coefficients equal to the inverse of the above matrix:\n",
    "\n",
    "\\begin{align}\n",
    "\\bar{r}(\\lambda) &= +3.6156\\,\\bar{x}(\\lambda)  -1.5471\\,\\bar{y}(\\lambda)  -0.7008\\,\\bar{z}(\\lambda) \\\\\n",
    "\\bar{g}(\\lambda) &= -1.2323\\,\\bar{x}(\\lambda)  +2.0841\\,\\bar{y}(\\lambda)  +0.0469\\,\\bar{z}(\\lambda) \\\\\n",
    "\\bar{b}(\\lambda) &= +0.0981\\,\\bar{x}(\\lambda)  -0.2523\\,\\bar{y}(\\lambda)  +1.0324\\,\\bar{z}(\\lambda)\n",
    "\\end{align}\n",
    "\n",
    "The CIE 1931 color matching functions looks like the following"
   ]
  },
  {
   "cell_type": "code",
   "execution_count": 5,
   "metadata": {},
   "outputs": [
    {
     "data": {
      "image/png": "[encoded data removed]",
      "text/plain": [
       "<matplotlib.figure.Figure at 0x10a7b4c50>"
      ]
     },
     "metadata": {},
     "output_type": "display_data"
    }
   ],
   "source": [
    "ciexyz31_1 = np.loadtxt('ciexyz31_1.csv', delimiter=',')\n",
    "plt.plot(ciexyz31_1[:,0], ciexyz31_1[:,1], label=r'$\\bar{x}(\\lambda)$', color='C1')\n",
    "plt.plot(ciexyz31_1[:,0], ciexyz31_1[:,2], label=r'$\\bar{y}(\\lambda)$', color='C4')\n",
    "plt.plot(ciexyz31_1[:,0], ciexyz31_1[:,3], label=r'$\\bar{z}(\\lambda)$', color='C6')\n",
    "plt.legend(fontsize='large');"
   ]
  },
  {
   "cell_type": "markdown",
   "metadata": {},
   "source": [
    "After the transformation, we obtain the color matching functions:"
   ]
  },
  {
   "cell_type": "code",
   "execution_count": 6,
   "metadata": {},
   "outputs": [],
   "source": [
    "rbar = iA[0,0]*ciexyz31_1[:,1] + iA[0,1]*ciexyz31_1[:,2] + iA[0,2]*ciexyz31_1[:,3]\n",
    "gbar = iA[1,0]*ciexyz31_1[:,1] + iA[1,1]*ciexyz31_1[:,2] + iA[1,2]*ciexyz31_1[:,3]\n",
    "bbar = iA[2,0]*ciexyz31_1[:,1] + iA[2,1]*ciexyz31_1[:,2] + iA[2,2]*ciexyz31_1[:,3]"
   ]
  },
  {
   "cell_type": "code",
   "execution_count": 7,
   "metadata": {},
   "outputs": [
    {
     "data": {
      "image/png": "[encoded data removed]",
      "text/plain": [
       "<matplotlib.figure.Figure at 0x10df32c88>"
      ]
     },
     "metadata": {},
     "output_type": "display_data"
    }
   ],
   "source": [
    "plt.plot(ciexyz31_1[:,0], rbar, label=r'$\\bar{r}(\\lambda)$', color='r')\n",
    "plt.plot(ciexyz31_1[:,0], gbar, label=r'$\\bar{g}(\\lambda)$', color='g')\n",
    "plt.plot(ciexyz31_1[:,0], bbar, label=r'$\\bar{b}(\\lambda)$', color='b')\n",
    "plt.legend(fontsize='large');"
   ]
  },
  {
   "cell_type": "code",
   "execution_count": null,
   "metadata": {
    "collapsed": true
   },
   "outputs": [],
   "source": []
  },
  {
   "cell_type": "code",
   "execution_count": null,
   "metadata": {
    "collapsed": true
   },
   "outputs": [],
   "source": []
  }
 ],
 "metadata": {
  "kernelspec": {
   "display_name": "Python 3",
   "language": "python",
   "name": "python3"
  },
  "language_info": {
   "codemirror_mode": {
    "name": "ipython",
    "version": 3
   },
   "file_extension": ".py",
   "mimetype": "text/x-python",
   "name": "python",
   "nbconvert_exporter": "python",
   "pygments_lexer": "ipython3",
   "version": "3.5.3"
  }
 },
 "nbformat": 4,
 "nbformat_minor": 2
}
