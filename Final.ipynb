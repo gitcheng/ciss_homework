{
 "cells": [
  {
   "cell_type": "markdown",
   "metadata": {},
   "source": [
    "# Final exam"
   ]
  },
  {
   "cell_type": "markdown",
   "metadata": {},
   "source": [
    "## Problem 01\n",
    "\n",
    "A Lambertian wall (width = a, height = b) with radiance L is at a right\n",
    "angle with the black floor (width = a, depth = c). What is the surface\n",
    "irradiance at the center of the floor (a/2, c/2)? Neglect all other \n",
    "surrounds."
   ]
  },
  {
   "cell_type": "markdown",
   "metadata": {},
   "source": [
    "Solution:\n",
    "\n",
    "The unit area $dA$ at the center of the floor has a solid angle $d\\omega$ with respect to a point $(x,y)$ on the wall:\n",
    "\n",
    "$$\n",
    "d\\omega = \\frac{dA \\cos\\theta}{(c/2)^2 + y^2 + (a/2 - x)^2},\n",
    "$$\n",
    "where $\\cos\\theta = y/\\sqrt{(c/2)^2 + y^2 + (a/2 - x)^2}$."
   ]
  },
  {
   "cell_type": "markdown",
   "metadata": {},
   "source": [
    "The the total flux \n",
    "\n",
    "\\begin{align}\n",
    "\\Phi &= \\int_0^a\\int_0^b d\\omega \\cos\\theta\\, L\\, dy\\, dx \\\\\n",
    " &= \\int_0^a\\int_0^b \\frac{L\\,dA\\, y}{[(c/2)^2 + y^2 + (a/2-x)^2]^{3/2}}\\, dy\\, dx\n",
    "\\end{align}"
   ]
  },
  {
   "cell_type": "markdown",
   "metadata": {},
   "source": [
    "The integral\n",
    "\n",
    "\\begin{align}\n",
    "\\int_0^b (\\alpha^2 + y^2)^{-3/2} y\\, dy &= -(\\alpha^2 + y^2)^{-1/2}\\big\\vert_0^b \\\\\n",
    " &= \\frac{1}{\\sqrt{\\alpha^2}} - \\frac{1}{\\sqrt{\\alpha^2+b^2}}\n",
    "\\end{align}"
   ]
  },
  {
   "cell_type": "markdown",
   "metadata": {},
   "source": [
    "Let $\\alpha = (c/2)^2 + (a/2-x)^2$, the total flux is then\n",
    "\n",
    "$$\n",
    "\\Phi = L\\,dA \\int_0^a\\Big[\\frac{1}{\\sqrt{(c/2)^2+(a/2-x)^2}} - \\frac{1}{\\sqrt{(c/2)^2+b^2+(a/2-x)^2}}\\Big]\\, dx\n",
    "$$"
   ]
  },
  {
   "cell_type": "markdown",
   "metadata": {},
   "source": [
    "The integral\n",
    "\n",
    "\\begin{align}\n",
    "\\int_0^a [(a/2-x)^2 + \\beta^2]^{-1/2} dx &= \\int_{-a/2}^{a/2} (x^2+\\beta^2)^{-1/2} dx \\\\\n",
    "&= \\ln(\\sqrt{x^2+\\beta^2} + x) \\big\\vert_{-a/2}^{a/2}\\\\\n",
    "&= \\ln\\Big(\\frac{\\sqrt{(a/2)^2+\\beta^2}+a/2}{\\sqrt{(a/2)^2+\\beta^2}-a/2}\\Big) \\\\\n",
    "&= \\ln\\Big(\\frac{[\\sqrt{(a/2)^2+\\beta^2}+a/2]^2}{(a/2)^2 + \\beta^2 - (a/2)^2} \\Big)\\\\\n",
    "&= \\ln\\Big(\\frac{a^2/2 + a\\sqrt{(a/2)^2+\\beta^2}}{\\beta^2}\\Big) \\\\\n",
    "&= \\ln\\Big(\\frac{a^2 + a\\sqrt{a^2+4\\beta^2}}{2\\beta^2}   \\Big)\n",
    "\\end{align}"
   ]
  },
  {
   "cell_type": "markdown",
   "metadata": {},
   "source": [
    "Therefore the irradiance is\n",
    "\n",
    "\\begin{align}\n",
    "\\Phi/dA &= L \\Big\\{\\ln\\Big(\\frac{a^2+a\\sqrt{a^2+4(c/2)^2}}{2(c/2)^2}\\Big) -\n",
    "    \\ln\\Big(\\frac{a^2+a\\sqrt{a^2+4(c/2)^2+b^2}}{2(c/2)^2+2b^2} \\Big)\\Big\\} \\\\\n",
    "&= L\\Big\\{   \\Big\\}\n",
    "\\end{align}"
   ]
  },
  {
   "cell_type": "markdown",
   "metadata": {},
   "source": [
    "\\begin{align}\n",
    "\\Phi/dA &= L \\Big\\{\\ln\\Big(\\frac{a^2+a\\sqrt{a^2+4(c/2)^2}}{2(c/2)^2}\\Big) -\n",
    "    \\ln\\Big(\\frac{a^2+a\\sqrt{a^2+4(c/2)^2+b^2}}{2(c/2)^2+2b^2} \\Big)\\Big\\} \\\\\n",
    "&= L\\Big\\{\\ln\\Big(\\frac{a^2+a\\sqrt{a^2+c^2}}{c^2}\\Big) - \\ln\\Big(\\frac{a^2+a\\sqrt{a^2+b^2+c^2}}{c^2+4b^2}\\Big)   \\Big\\}\n",
    "\\end{align}"
   ]
  },
  {
   "cell_type": "markdown",
   "metadata": {},
   "source": [
    "## Problem 02\n",
    "Given a monitor with the following corresponding chromaticity pairs:\n",
    "\n",
    "<pre>\n",
    "phosphor     r      g      b         x       y       z\n",
    "  red        1      0      0        0.61    0.36    0.03\n",
    "  green      0      1      0        0.28    0.60    0.20\n",
    "  blue       0      0      1        0.18    0.09    0.73\n",
    "  white     1/3    1/3    1/3       0.3027  0.3281  0.3692\n",
    "</pre>\n",
    "\n",
    "Determine the spectral sensitivity functions of the camera whose raw RGB\n",
    "can be sent to this monitor without color correction.\n"
   ]
  },
  {
   "cell_type": "code",
   "execution_count": null,
   "metadata": {
    "collapsed": true
   },
   "outputs": [],
   "source": []
  }
 ],
 "metadata": {
  "kernelspec": {
   "display_name": "Python 3",
   "language": "python",
   "name": "python3"
  },
  "language_info": {
   "codemirror_mode": {
    "name": "ipython",
    "version": 3
   },
   "file_extension": ".py",
   "mimetype": "text/x-python",
   "name": "python",
   "nbconvert_exporter": "python",
   "pygments_lexer": "ipython3",
   "version": "3.5.3"
  }
 },
 "nbformat": 4,
 "nbformat_minor": 2
}
